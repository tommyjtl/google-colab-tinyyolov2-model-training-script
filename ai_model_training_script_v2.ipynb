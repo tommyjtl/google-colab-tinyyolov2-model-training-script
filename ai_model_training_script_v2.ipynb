{
  "nbformat": 4,
  "nbformat_minor": 0,
  "metadata": {
    "colab": {
      "name": "ai model training script v2",
      "provenance": [],
      "collapsed_sections": []
    },
    "kernelspec": {
      "name": "python3",
      "display_name": "Python 3"
    },
    "accelerator": "GPU"
  },
  "cells": [
    {
      "cell_type": "code",
      "metadata": {
        "id": "r55d5RFXtIqF",
        "colab_type": "code",
        "colab": {}
      },
      "source": [
        "%tensorflow_version 1.x"
      ],
      "execution_count": null,
      "outputs": []
    },
    {
      "cell_type": "code",
      "metadata": {
        "id": "cOi5FaSdtmWq",
        "colab_type": "code",
        "colab": {}
      },
      "source": [
        "import tensorflow\n",
        "print(tensorflow.__version__)"
      ],
      "execution_count": null,
      "outputs": []
    },
    {
      "cell_type": "code",
      "metadata": {
        "id": "Z85AdFDXrptE",
        "colab_type": "code",
        "colab": {}
      },
      "source": [
        "from google.colab import drive\n",
        "drive.mount('/content/gdrive')"
      ],
      "execution_count": null,
      "outputs": []
    },
    {
      "cell_type": "code",
      "metadata": {
        "colab_type": "code",
        "id": "1wVJ7jvf_b-T",
        "colab": {}
      },
      "source": [
        "%ls /content/gdrive/My\\ Drive/"
      ],
      "execution_count": null,
      "outputs": []
    },
    {
      "cell_type": "code",
      "metadata": {
        "id": "dwrsK7MZsx21",
        "colab_type": "code",
        "colab": {}
      },
      "source": [
        "!git clone https://github.com/tommyjtl/google-colab-tinyyolov2-model-training-script toolkit"
      ],
      "execution_count": null,
      "outputs": []
    },
    {
      "cell_type": "code",
      "metadata": {
        "id": "g7WeouzPs_Od",
        "colab_type": "code",
        "colab": {}
      },
      "source": [
        "%cd /content/toolkit/"
      ],
      "execution_count": null,
      "outputs": []
    },
    {
      "cell_type": "code",
      "metadata": {
        "id": "cW_3n5DntYDw",
        "colab_type": "code",
        "colab": {}
      },
      "source": [
        "!python setup.py"
      ],
      "execution_count": null,
      "outputs": []
    },
    {
      "cell_type": "code",
      "metadata": {
        "id": "WLC8zxrH-opt",
        "colab_type": "code",
        "colab": {}
      },
      "source": [
        "your_dataset_path_on_googledrive = \"hktrashclassnew\""
      ],
      "execution_count": 11,
      "outputs": []
    },
    {
      "cell_type": "code",
      "metadata": {
        "id": "CTR4cc02uUeL",
        "colab_type": "code",
        "colab": {}
      },
      "source": [
        "import shutil\n",
        "\n",
        "shutil.copytree(\n",
        "    \"/content/gdrive/My Drive/\" + your_dataset_path_on_googledrive + \"/\", \n",
        "    \"/content/\" + your_dataset_path_on_googledrive + \"/\"\n",
        ")"
      ],
      "execution_count": null,
      "outputs": []
    },
    {
      "cell_type": "code",
      "metadata": {
        "id": "26R-CfjL3Ti3",
        "colab_type": "code",
        "colab": {}
      },
      "source": [
        "import os\n",
        "\n",
        "os.listdir(\"/content/\" + your_dataset_path_on_googledrive + \"/\")"
      ],
      "execution_count": null,
      "outputs": []
    },
    {
      "cell_type": "code",
      "metadata": {
        "id": "8Y3POaVE0mkq",
        "colab_type": "code",
        "colab": {}
      },
      "source": [
        "!python generate_conf_v2.py"
      ],
      "execution_count": null,
      "outputs": []
    },
    {
      "cell_type": "code",
      "metadata": {
        "id": "BN7RC8hfvksE",
        "colab_type": "code",
        "colab": {}
      },
      "source": [
        "%cd ./conf/"
      ],
      "execution_count": null,
      "outputs": []
    },
    {
      "cell_type": "code",
      "metadata": {
        "id": "SRR-JFCvvsia",
        "colab_type": "code",
        "colab": {}
      },
      "source": [
        "!python train.py"
      ],
      "execution_count": null,
      "outputs": []
    },
    {
      "cell_type": "code",
      "metadata": {
        "id": "NR7PfhQE5A5m",
        "colab_type": "code",
        "colab": {}
      },
      "source": [
        "!bash test-train.sh"
      ],
      "execution_count": null,
      "outputs": []
    },
    {
      "cell_type": "code",
      "metadata": {
        "id": "rzJCeokiLJgq",
        "colab_type": "code",
        "colab": {}
      },
      "source": [
        "import shutil\n",
        "\n",
        "shutil.copyfile(\n",
        "    \"/content/toolkit/tools/darknet-colab/predictions.jpg\", \n",
        "    \"/content/gdrive/My Drive/\" + your_dataset_path_on_googledrive + \"_test.jpg\"\n",
        ")"
      ],
      "execution_count": null,
      "outputs": []
    },
    {
      "cell_type": "code",
      "metadata": {
        "id": "DkwUw92d5Aus",
        "colab_type": "code",
        "colab": {}
      },
      "source": [
        "%cd .."
      ],
      "execution_count": null,
      "outputs": []
    },
    {
      "cell_type": "code",
      "metadata": {
        "id": "XnxEkvyU5F42",
        "colab_type": "code",
        "colab": {}
      },
      "source": [
        "!python export_model.py"
      ],
      "execution_count": null,
      "outputs": []
    },
    {
      "cell_type": "code",
      "metadata": {
        "id": "uK6vcnAO5XOB",
        "colab_type": "code",
        "colab": {}
      },
      "source": [
        "!ls ./convert"
      ],
      "execution_count": null,
      "outputs": []
    },
    {
      "cell_type": "code",
      "metadata": {
        "id": "JYtJXb7y5jQY",
        "colab_type": "code",
        "colab": {}
      },
      "source": [
        "!python copy_to_googledrive.py"
      ],
      "execution_count": null,
      "outputs": []
    }
  ]
}